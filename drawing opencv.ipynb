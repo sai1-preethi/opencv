{
 "cells": [
  {
   "cell_type": "code",
   "execution_count": 1,
   "id": "c752e689-540f-49f9-abd7-a7890f0779fa",
   "metadata": {},
   "outputs": [],
   "source": [
    "import cv2"
   ]
  },
  {
   "cell_type": "code",
   "execution_count": 2,
   "id": "ab81b5d7-3d04-40c6-8392-a6e13bd6fb52",
   "metadata": {},
   "outputs": [],
   "source": [
    "import numpy as np"
   ]
  },
  {
   "cell_type": "code",
   "execution_count": 3,
   "id": "610f4a47-6956-4f18-adf7-4b73e33899c4",
   "metadata": {},
   "outputs": [],
   "source": [
    "# White color canva -- color_space--grayscale\n",
    "\n",
    "canva=np.full((500,500),255,dtype=np.uint8)\n",
    "cv2.line(canva,(0,0),(500,500),(180),4)\n",
    "\n",
    "cv2.imshow(\"line\",canva)\n",
    "cv2.waitKey()\n",
    "cv2.destroyAllWindows()"
   ]
  },
  {
   "cell_type": "code",
   "execution_count": 5,
   "id": "fa9bab80-43cd-4e97-a0ac-e1b9b996f505",
   "metadata": {},
   "outputs": [],
   "source": [
    "# white color canva -- color_space--bgr\n",
    "\n",
    "canva=np.full((500,500,3),255,dtype=np.uint8)\n",
    "\n",
    "cv2.line(canva,(0,0),(500,500),(0,0,255),4)\n",
    "\n",
    "# img,starting point(pixel),eending point(pixel),(color),thickness\n",
    "\n",
    "cv2.imshow(\"line\",canva)\n",
    "cv2.waitKey()\n",
    "cv2.destroyAllWindows()"
   ]
  },
  {
   "cell_type": "code",
   "execution_count": 7,
   "id": "cfe66185-ce3d-4866-b976-a8c34be2cdff",
   "metadata": {},
   "outputs": [],
   "source": [
    "canva=np.full((500,500,3),255,dtype=np.uint8)\n",
    "\n",
    "cv2.line(canva,(10,30),(500,500),(0,0,255),4)\n",
    "\n",
    "# img,starting point(pixel),eending point(pixel),(color),thickness\n",
    "\n",
    "cv2.imshow(\"line\",canva)\n",
    "cv2.waitKey()\n",
    "cv2.destroyAllWindows()"
   ]
  },
  {
   "cell_type": "code",
   "execution_count": 8,
   "id": "ea60225c-cbc8-441b-8a6a-37488363ea80",
   "metadata": {},
   "outputs": [],
   "source": [
    "img1=cv2.imread(r\"C:\\Users\\Lenovo\\Downloads\\dog,cat\\dog\\DOg420.jpg\")"
   ]
  },
  {
   "cell_type": "code",
   "execution_count": null,
   "id": "da75dc40-a827-4dda-846b-c7adfad9085b",
   "metadata": {},
   "outputs": [],
   "source": []
  },
  {
   "cell_type": "code",
   "execution_count": 9,
   "id": "3871d70f-b3d0-403d-a639-f1ca882437d6",
   "metadata": {},
   "outputs": [],
   "source": [
    "# How to create a rectangle scale"
   ]
  },
  {
   "cell_type": "code",
   "execution_count": 10,
   "id": "d01c3e68-c76c-4379-8658-f62d38048be2",
   "metadata": {},
   "outputs": [
    {
     "ename": "SyntaxError",
     "evalue": "(unicode error) 'unicodeescape' codec can't decode bytes in position 2-3: truncated \\UXXXXXXXX escape (299875100.py, line 1)",
     "output_type": "error",
     "traceback": [
      "\u001b[1;36m  Cell \u001b[1;32mIn[10], line 1\u001b[1;36m\u001b[0m\n\u001b[1;33m    \"C:\\Users\\Lenovo\\Downloads\\dog,cat\\dog\\DOg420.jpg\"\u001b[0m\n\u001b[1;37m    ^\u001b[0m\n\u001b[1;31mSyntaxError\u001b[0m\u001b[1;31m:\u001b[0m (unicode error) 'unicodeescape' codec can't decode bytes in position 2-3: truncated \\UXXXXXXXX escape\n"
     ]
    }
   ],
   "source": [
    "\"C:\\Users\\Lenovo\\Downloads\\dog,cat\\dog\\DOg420.jpg\""
   ]
  },
  {
   "cell_type": "code",
   "execution_count": 13,
   "id": "cd196a43-5a74-439b-8395-560ec8c9667e",
   "metadata": {},
   "outputs": [
    {
     "ename": "error",
     "evalue": "OpenCV(4.10.0) D:\\a\\opencv-python\\opencv-python\\opencv\\modules\\imgproc\\src\\drawing.cpp:1833: error: (-215:Assertion failed) 0 < thickness && thickness <= MAX_THICKNESS in function 'cv::line'\n",
     "output_type": "error",
     "traceback": [
      "\u001b[1;31m---------------------------------------------------------------------------\u001b[0m",
      "\u001b[1;31merror\u001b[0m                                     Traceback (most recent call last)",
      "Cell \u001b[1;32mIn[13], line 3\u001b[0m\n\u001b[0;32m      1\u001b[0m canva\u001b[38;5;241m=\u001b[39mnp\u001b[38;5;241m.\u001b[39mfull((\u001b[38;5;241m500\u001b[39m,\u001b[38;5;241m500\u001b[39m,\u001b[38;5;241m3\u001b[39m),\u001b[38;5;241m255\u001b[39m,dtype\u001b[38;5;241m=\u001b[39mnp\u001b[38;5;241m.\u001b[39muint8)\n\u001b[1;32m----> 3\u001b[0m \u001b[43mcv2\u001b[49m\u001b[38;5;241;43m.\u001b[39;49m\u001b[43mline\u001b[49m\u001b[43m(\u001b[49m\u001b[43mcanva\u001b[49m\u001b[43m,\u001b[49m\u001b[43m(\u001b[49m\u001b[38;5;241;43m200\u001b[39;49m\u001b[43m,\u001b[49m\u001b[38;5;241;43m200\u001b[39;49m\u001b[43m)\u001b[49m\u001b[43m,\u001b[49m\u001b[43m(\u001b[49m\u001b[38;5;241;43m500\u001b[39;49m\u001b[43m,\u001b[49m\u001b[38;5;241;43m500\u001b[39;49m\u001b[43m)\u001b[49m\u001b[43m,\u001b[49m\u001b[43m(\u001b[49m\u001b[38;5;241;43m0\u001b[39;49m\u001b[43m,\u001b[49m\u001b[38;5;241;43m0\u001b[39;49m\u001b[43m,\u001b[49m\u001b[38;5;241;43m255\u001b[39;49m\u001b[43m)\u001b[49m\u001b[43m,\u001b[49m\u001b[38;5;241;43m-\u001b[39;49m\u001b[38;5;241;43m1\u001b[39;49m\u001b[43m)\u001b[49m\n\u001b[0;32m      5\u001b[0m \u001b[38;5;66;03m# img,starting point(pixel),eending point(pixel),(color),thickness\u001b[39;00m\n\u001b[0;32m      7\u001b[0m cv2\u001b[38;5;241m.\u001b[39mimshow(\u001b[38;5;124m\"\u001b[39m\u001b[38;5;124mrectangle\u001b[39m\u001b[38;5;124m\"\u001b[39m,canva)\n",
      "\u001b[1;31merror\u001b[0m: OpenCV(4.10.0) D:\\a\\opencv-python\\opencv-python\\opencv\\modules\\imgproc\\src\\drawing.cpp:1833: error: (-215:Assertion failed) 0 < thickness && thickness <= MAX_THICKNESS in function 'cv::line'\n"
     ]
    }
   ],
   "source": [
    "canva=np.full((500,500,3),255,dtype=np.uint8)\n",
    "\n",
    "cv2.line(canva,(200,200),(500,500),(0,0,255),-1)\n",
    "\n",
    "# img,starting point(pixel),eending point(pixel),(color),thickness\n",
    "\n",
    "cv2.imshow(\"rectangle\",canva)\n",
    "cv2.waitKey()\n",
    "cv2.destroyAllWindows()"
   ]
  },
  {
   "cell_type": "code",
   "execution_count": 12,
   "id": "ff362954-6621-4114-9c5c-b9b9be589b33",
   "metadata": {},
   "outputs": [
    {
     "ename": "error",
     "evalue": "OpenCV(4.10.0) D:\\a\\opencv-python\\opencv-python\\opencv\\modules\\imgproc\\src\\drawing.cpp:1833: error: (-215:Assertion failed) 0 < thickness && thickness <= MAX_THICKNESS in function 'cv::line'\n",
     "output_type": "error",
     "traceback": [
      "\u001b[1;31m---------------------------------------------------------------------------\u001b[0m",
      "\u001b[1;31merror\u001b[0m                                     Traceback (most recent call last)",
      "Cell \u001b[1;32mIn[12], line 4\u001b[0m\n\u001b[0;32m      1\u001b[0m \u001b[38;5;66;03m# multiple squares\u001b[39;00m\n\u001b[0;32m      2\u001b[0m canva\u001b[38;5;241m=\u001b[39mnp\u001b[38;5;241m.\u001b[39mfull((\u001b[38;5;241m500\u001b[39m,\u001b[38;5;241m500\u001b[39m,\u001b[38;5;241m3\u001b[39m),\u001b[38;5;241m255\u001b[39m,dtype\u001b[38;5;241m=\u001b[39mnp\u001b[38;5;241m.\u001b[39muint8)\n\u001b[1;32m----> 4\u001b[0m \u001b[43mcv2\u001b[49m\u001b[38;5;241;43m.\u001b[39;49m\u001b[43mline\u001b[49m\u001b[43m(\u001b[49m\u001b[43mcanva\u001b[49m\u001b[43m,\u001b[49m\u001b[43m(\u001b[49m\u001b[38;5;241;43m200\u001b[39;49m\u001b[43m,\u001b[49m\u001b[38;5;241;43m200\u001b[39;49m\u001b[43m)\u001b[49m\u001b[43m,\u001b[49m\u001b[43m(\u001b[49m\u001b[38;5;241;43m500\u001b[39;49m\u001b[43m,\u001b[49m\u001b[38;5;241;43m500\u001b[39;49m\u001b[43m)\u001b[49m\u001b[43m,\u001b[49m\u001b[43m(\u001b[49m\u001b[38;5;241;43m0\u001b[39;49m\u001b[43m,\u001b[49m\u001b[38;5;241;43m0\u001b[39;49m\u001b[43m,\u001b[49m\u001b[38;5;241;43m255\u001b[39;49m\u001b[43m)\u001b[49m\u001b[43m,\u001b[49m\u001b[38;5;241;43m-\u001b[39;49m\u001b[38;5;241;43m1\u001b[39;49m\u001b[43m)\u001b[49m  \u001b[38;5;66;03m# -1 is for filling rectangle\u001b[39;00m\n\u001b[0;32m      6\u001b[0m \u001b[38;5;66;03m# img,starting point(pixel),eending point(pixel),(color),thickness\u001b[39;00m\n\u001b[0;32m      8\u001b[0m cv2\u001b[38;5;241m.\u001b[39mimshow(\u001b[38;5;124m\"\u001b[39m\u001b[38;5;124mrectangle\u001b[39m\u001b[38;5;124m\"\u001b[39m,canva)\n",
      "\u001b[1;31merror\u001b[0m: OpenCV(4.10.0) D:\\a\\opencv-python\\opencv-python\\opencv\\modules\\imgproc\\src\\drawing.cpp:1833: error: (-215:Assertion failed) 0 < thickness && thickness <= MAX_THICKNESS in function 'cv::line'\n"
     ]
    }
   ],
   "source": [
    "# multiple squares\n",
    "canva=np.full((500,500,3),255,dtype=np.uint8)\n",
    "\n",
    "cv2.line(canva,(200,200),(500,500),(0,0,255),-1)  # -1 is for filling rectangle\n",
    "\n",
    "# img,starting point(pixel),eending point(pixel),(color),thickness\n",
    "\n",
    "cv2.imshow(\"rectangle\",canva)\n",
    "cv2.waitKey()\n",
    "cv2.destroyAllWindows()\n"
   ]
  },
  {
   "cell_type": "code",
   "execution_count": null,
   "id": "283a8da9-d265-4c89-823d-b09d7eb7cb0f",
   "metadata": {},
   "outputs": [],
   "source": [
    "# circle"
   ]
  },
  {
   "cell_type": "code",
   "execution_count": 14,
   "id": "bbef4f8d-1ca1-4912-a805-55a39d7d3361",
   "metadata": {},
   "outputs": [],
   "source": [
    "canva = np.full((500,500,3),255,dtype=np.uint8)\n",
    "\n",
    "cv2.circle(canva,(250,250),100,(255,0,0),2)\n",
    "\n",
    "# cv2.rectangle(canva,(200,200),(500,400),(255,0,0),1)\n",
    "\n",
    "# image ,centre(pixel)(c,r),radius,color,thickness of the circle\n",
    "\n",
    "cv2.imshow(\"circle\",canva)\n",
    "cv2.waitKey()\n",
    "cv2.destroyAllWindows()"
   ]
  },
  {
   "cell_type": "markdown",
   "id": "5d028503-6423-4c82-af0f-de27ce0b0acb",
   "metadata": {},
   "source": [
    "# POLYLINE"
   ]
  },
  {
   "cell_type": "code",
   "execution_count": 15,
   "id": "aaa026a9-185a-42f1-af03-5e442111dd22",
   "metadata": {},
   "outputs": [],
   "source": [
    "pts=np.array([[120,15],[56,78],[89,100],[250,400],[60,30]])\n",
    "\n",
    "canva=np.full((500,500,3),255,dtype=np.uint8)\n",
    "pts=pts.reshape((-1,1,2))\n",
    "\n",
    "cv2.polylines(canva,[pts],True,(0,255,0),4)\n",
    "\n",
    "cv2.imshow(\"polyline\",canva)\n",
    "cv2.waitKey()\n",
    "cv2.destroyAllWindows()\n",
    "\n",
    "\n"
   ]
  },
  {
   "cell_type": "markdown",
   "id": "553bbfca-8d07-44d2-a699-755ff10d6d38",
   "metadata": {},
   "source": [
    "# PUT Text into Image"
   ]
  },
  {
   "cell_type": "code",
   "execution_count": 16,
   "id": "3a707117-ca40-49e7-bb99-c75c05e6e563",
   "metadata": {},
   "outputs": [],
   "source": [
    "canva=np.full((500,500,3),255,dtype=np.uint8)\n",
    "\n",
    "cv2.putText(canva,\"INNOMATICS\",(100,150),cv2.FONT_HERSHEY_COMPLEX,2,(0,0,255),2)\n",
    "\n",
    "cv2.imshow(\"text\",canva)\n",
    "cv2.waitKey()\n",
    "cv2.destroyAllWindows()"
   ]
  },
  {
   "cell_type": "code",
   "execution_count": null,
   "id": "b9b8c4d0-fdfa-4eda-9b16-94945d99f4b7",
   "metadata": {},
   "outputs": [],
   "source": [
    "import os"
   ]
  },
  {
   "cell_type": "code",
   "execution_count": null,
   "id": "e244b5a4-7be1-41bb-8d40-55927bed0808",
   "metadata": {},
   "outputs": [],
   "source": [
    "# create a new folder\n",
    "os.mkdirr(r\"C:\\Users\\Lenovo\\Downloads\\hands_pattern\")"
   ]
  },
  {
   "cell_type": "code",
   "execution_count": null,
   "id": "b7302690-e49f-4f72-91d7-cf8a7de59d9a",
   "metadata": {},
   "outputs": [],
   "source": [
    "for folder in [\"one\",\"two\",\"three\"]:\n",
    "    os.mkdir(r\"C:\\Users\\Lenovo\\Downloads\\hands_pattern\\{}\".format(folder))"
   ]
  },
  {
   "cell_type": "code",
   "execution_count": null,
   "id": "06382598-e448-4265-a8ec-d1378e1713f0",
   "metadata": {},
   "outputs": [],
   "source": [
    "# How to put aanything on image"
   ]
  },
  {
   "cell_type": "code",
   "execution_count": null,
   "id": "8f4bc629-8594-4a9d-87a8-cbd12dbb8585",
   "metadata": {},
   "outputs": [],
   "source": [
    "480,640"
   ]
  },
  {
   "cell_type": "code",
   "execution_count": null,
   "id": "2c249d45-22d1-45d2-9950-5c1df8e72659",
   "metadata": {},
   "outputs": [],
   "source": [
    "vid=cv2.VideoCapture(0)\n",
    "\n",
    "while True:\n",
    "    suc,img=vid.read()\n",
    "\n",
    "    cv2.rectangle(img,(300,100),(500,380),(0,0,255),1)\n",
    "    cv2.putText(img,\"hand sign capture\",(20,30),cv2.FONT_HERSHEY_COMPLEX,2,(255,0,0),2)\n",
    "\n",
    "    cv2.putText(img,\"hand sign capture\",(20,30),cv2.FONT_HERSHEY_COMPLEX,2,(255,0,0),2)\n",
    "\n",
    "    cv2.imshow(\"live stream\",img)\n",
    "    \n",
    "    if cv2.waitKey(1) & 255 == ord(\"q\"):\n",
    "        break\n",
    "\n",
    "cv2.destroyAllWindows()"
   ]
  },
  {
   "cell_type": "code",
   "execution_count": null,
   "id": "9093116d-9d55-4005-affe-fd8fc6105914",
   "metadata": {},
   "outputs": [],
   "source": [
    "vid=cv2.VideoCapture(0)\n",
    "\n",
    "while True:\n",
    "    suc,img=vid.read()\n",
    "\n",
    "    cv2.rectangle(img,(300,100),(500,380),(0,0,255),1)\n",
    "    cv2.putText(img,\"hand sign capture\",(20,30),cv2.FONT_HERSHEY_COMPLEX,2,(255,0,0),2)\n",
    "\n",
    "    cr_img=img[100:380,300:500]\n",
    "\n",
    "    cv2.imshow(\"live stream\",img)\n",
    "    cv2.imshow(\"cropped stream\",cr_img)\n",
    "\n",
    "    \n",
    "    \n",
    "    if cv2.waitKey(1) & 255 == ord(\"q\"):\n",
    "        break\n",
    "\n",
    "cv2.destroyAllWindows()"
   ]
  },
  {
   "cell_type": "code",
   "execution_count": null,
   "id": "859964e8-d93c-4bfc-93bb-99d7e4948258",
   "metadata": {},
   "outputs": [],
   "source": [
    "vid=cv2.VideoCapture(0)\n",
    "\n",
    "o=0\n",
    "t=0\n",
    "th=0\n",
    "\n",
    "while True:\n",
    "    suc,img=vid.read()\n",
    "\n",
    "    cv2.rectangle(img,(300,100),(500,380),(0,0,255),1)\n",
    "    cv2.putText(img,\"hand sign capture\",(20,30),cv2.FONT_HERSHEY_COMPLEX,2,(255,0,0),2)\n",
    "\n",
    "    cr_img=img[100:380,300:500]\n",
    "\n",
    "    cv2.imshow(\"live stream\",img)\n",
    "    cv2.imshow(\"cropped stream\",cr_img)\n",
    "\n",
    "    if cv2.waitKey(1) & 255 == ord(\"w\"):\n",
    "        cv2.imwrite(r\"C:\\Users\\Lenovo\\Downloads\\hands_pattern\\one\\{}.jpg\".format(o),cr_img)\n",
    "        print(\"one saved\")\n",
    "        o+=1\n",
    "    elif cv2.waitKey(1) & 255 == ord(\"e\"):\n",
    "        cv2.imwrite(r\"C:\\Users\\Lenovo\\Downloads\\hands_pattern\\two\\{}.jpg\".format(t),cr_img)\n",
    "        print(\"two saved\")\n",
    "        t+=1\n",
    "    elif cv2.waitKey(1) & 255 == ord(\"e\"):\n",
    "        cv2.imwrite(r\"C:\\Users\\Lenovo\\Downloads\\hands_pattern\\three\\{}.jpg\".format(th),cr_img)\n",
    "        print(\"three saved\")\n",
    "        th+=1   \n",
    "\n",
    "    \n",
    "    else:\n",
    "        if cv2.waitKey(1) & 255 == ord(\"q\"):\n",
    "            break\n",
    "\n",
    "cv2.destroyAllWindows()"
   ]
  },
  {
   "cell_type": "code",
   "execution_count": null,
   "id": "e3fa52ed-f6d2-4305-a163-a276b9c3ed1d",
   "metadata": {},
   "outputs": [],
   "source": []
  }
 ],
 "metadata": {
  "kernelspec": {
   "display_name": "Python 3 (ipykernel)",
   "language": "python",
   "name": "python3"
  },
  "language_info": {
   "codemirror_mode": {
    "name": "ipython",
    "version": 3
   },
   "file_extension": ".py",
   "mimetype": "text/x-python",
   "name": "python",
   "nbconvert_exporter": "python",
   "pygments_lexer": "ipython3",
   "version": "3.12.5"
  }
 },
 "nbformat": 4,
 "nbformat_minor": 5
}
